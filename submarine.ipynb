{
 "cells": [
  {
   "cell_type": "markdown",
   "metadata": {},
   "source": [
    "# Submarine\n",
    "- Create a 6x6 grid. Identify the grid squares similar to Battleship with letters for the rows and number for the columns\n",
    "- Have the computer randomly assign the \"submarine\" location to one location on the grid\n",
    "- Prompt the user to choose a location for the submarine (e.g., B3)\n",
    "- Tell the user if their guess is correct and how much information was gained with that guess and how much total information they have gained so far (summed over all guesses)"
   ]
  },
  {
   "cell_type": "code",
   "execution_count": 66,
   "metadata": {},
   "outputs": [
    {
     "name": "stdout",
     "output_type": "stream",
     "text": [
      "[['?' '?' '?' '?' '?' '?']\n",
      " ['?' '?' '?' '?' '?' '?']\n",
      " ['?' '?' '?' '?' '?' '?']\n",
      " ['?' '?' '?' '?' '?' '?']\n",
      " ['?' '?' '?' '?' '?' '?']\n",
      " ['?' '?' '?' '?' '?' '?']] \n",
      "\n",
      "[['?' '?' '?' '?' '?' '?']\n",
      " ['?' '?' 'X' '?' '?' '?']\n",
      " ['?' '?' '?' '?' '?' '?']\n",
      " ['?' '?' '?' '?' '?' '?']\n",
      " ['?' '?' '?' '?' '?' '?']\n",
      " ['?' '?' '?' '?' '?' '?']] \n",
      "\n",
      "Unexpected exception formatting exception. Falling back to standard exception\n"
     ]
    },
    {
     "name": "stderr",
     "output_type": "stream",
     "text": [
      "Traceback (most recent call last):\n",
      "  File \"/Users/andres/anaconda3/lib/python3.10/site-packages/IPython/core/interactiveshell.py\", line 3460, in run_code\n",
      "  File \"/var/folders/7x/l1v44bx9743799p1xrfzp9q40000gq/T/ipykernel_80223/368056364.py\", line 20, in <module>\n",
      "    newGrid[rows.index(guess[0]),int(guess[1])] = \"X\"\n",
      "IndexError: string index out of range\n",
      "\n",
      "During handling of the above exception, another exception occurred:\n",
      "\n",
      "Traceback (most recent call last):\n",
      "  File \"/Users/andres/anaconda3/lib/python3.10/site-packages/pygments/styles/__init__.py\", line 78, in get_style_by_name\n",
      "ModuleNotFoundError: No module named 'pygments.styles.default'\n",
      "\n",
      "During handling of the above exception, another exception occurred:\n",
      "\n",
      "Traceback (most recent call last):\n",
      "  File \"/Users/andres/anaconda3/lib/python3.10/site-packages/IPython/core/interactiveshell.py\", line 2057, in showtraceback\n",
      "  File \"/Users/andres/anaconda3/lib/python3.10/site-packages/IPython/core/ultratb.py\", line 1118, in structured_traceback\n",
      "  File \"/Users/andres/anaconda3/lib/python3.10/site-packages/IPython/core/ultratb.py\", line 1012, in structured_traceback\n",
      "  File \"/Users/andres/anaconda3/lib/python3.10/site-packages/IPython/core/ultratb.py\", line 865, in structured_traceback\n",
      "  File \"/Users/andres/anaconda3/lib/python3.10/site-packages/IPython/core/ultratb.py\", line 799, in format_exception_as_a_whole\n",
      "  File \"/Users/andres/anaconda3/lib/python3.10/site-packages/IPython/core/ultratb.py\", line 844, in get_records\n",
      "  File \"/Users/andres/anaconda3/lib/python3.10/site-packages/pygments/styles/__init__.py\", line 80, in get_style_by_name\n",
      "pygments.util.ClassNotFound: Could not find style module 'default', though it should be builtin.\n"
     ]
    }
   ],
   "source": [
    "import numpy as np\n",
    "import random as r\n",
    "\n",
    "# Create a 6x6 grid. Identify the grid squares similar to Battleship with letters for the rows and number for the columns\n",
    "grid = np.full((6,6), '?', dtype = 'U1')\n",
    "rows = \"A\", \"B\", \"C\", \"D\", \"E\", \"F\"\n",
    "\n",
    "# Have the computer randomly assign the \"submarine\" location to one location on the grid\n",
    "r1 = r.randint(0,grid.shape[0]-1)\n",
    "r2 = r.randint(0,grid.shape[0]-1)\n",
    "ranloc = rows[r1] + str(r2)\n",
    "\n",
    "# Prompt the user to choose a location for the submarine (e.g., B3)\n",
    "newGrid = np.copy(grid)\n",
    "print(newGrid, '\\n')\n",
    "guess = input(\"Choose a location for the submarine: \\n\")\n",
    "\n",
    "# Tell the user if their guess is correct and how much information was gained with that guess and how much total information they have gained so far (summed over all guesses)\n",
    "while (guess != ranloc):\n",
    "    newGrid[rows.index(guess[0]),int(guess[1])] = \"X\"\n",
    "    print(newGrid, \"\\n\")\n",
    "    chances = np.count_nonzero(newGrid == '?')\n",
    "    h = np.log2((chances + 1) / chances)\n",
    "    guess = input(\"Your guess %s is NOT correct! \\nH = %.2f \\nChoose a new location: \" % (guess, h))\n",
    "newGrid[r1,r2] = \"S\"\n",
    "print(\"Your guess %s is correct! \\nH = %.2f\" % (guess, h))\n",
    "\n"
   ]
  },
  {
   "cell_type": "code",
   "execution_count": null,
   "metadata": {},
   "outputs": [],
   "source": [
    "\n",
    "\n",
    "\n"
   ]
  }
 ],
 "metadata": {
  "kernelspec": {
   "display_name": "Python 3",
   "language": "python",
   "name": "python3"
  },
  "language_info": {
   "codemirror_mode": {
    "name": "ipython",
    "version": 3
   },
   "file_extension": ".py",
   "mimetype": "text/x-python",
   "name": "python",
   "nbconvert_exporter": "python",
   "pygments_lexer": "ipython3",
   "version": "3.10.9"
  }
 },
 "nbformat": 4,
 "nbformat_minor": 2
}
